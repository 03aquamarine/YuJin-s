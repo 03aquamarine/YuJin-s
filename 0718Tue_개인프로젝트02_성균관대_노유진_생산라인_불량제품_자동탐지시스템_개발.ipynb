{
  "cells": [
    {
      "cell_type": "markdown",
      "metadata": {
        "id": "view-in-github",
        "colab_type": "text"
      },
      "source": [
        "<a href=\"https://colab.research.google.com/github/03aquamarine/YuJin-s/blob/main/0718Tue_%EA%B0%9C%EC%9D%B8%ED%94%84%EB%A1%9C%EC%A0%9D%ED%8A%B802_%EC%84%B1%EA%B7%A0%EA%B4%80%EB%8C%80_%EB%85%B8%EC%9C%A0%EC%A7%84_%EC%83%9D%EC%82%B0%EB%9D%BC%EC%9D%B8_%EB%B6%88%EB%9F%89%EC%A0%9C%ED%92%88_%EC%9E%90%EB%8F%99%ED%83%90%EC%A7%80%EC%8B%9C%EC%8A%A4%ED%85%9C_%EA%B0%9C%EB%B0%9C.ipynb\" target=\"_parent\"><img src=\"https://colab.research.google.com/assets/colab-badge.svg\" alt=\"Open In Colab\"/></a>"
      ]
    },
    {
      "cell_type": "markdown",
      "metadata": {
        "id": "qLgJOETSqkls"
      },
      "source": [
        "1. data 불러오기\n",
        "2. labeling\n",
        "3. 전처리\n",
        "4. 학습\n",
        "5. predict"
      ]
    },
    {
      "cell_type": "code",
      "execution_count": 1,
      "metadata": {
        "colab": {
          "base_uri": "https://localhost:8080/"
        },
        "id": "d7KyjnpAnuHG",
        "outputId": "871da005-6859-4f5f-f595-19cafba781e4"
      },
      "outputs": [
        {
          "output_type": "stream",
          "name": "stdout",
          "text": [
            "Drive already mounted at /content/drive; to attempt to forcibly remount, call drive.mount(\"/content/drive\", force_remount=True).\n"
          ]
        }
      ],
      "source": [
        "from google.colab import drive\n",
        "drive.mount('/content/drive')"
      ]
    },
    {
      "cell_type": "code",
      "execution_count": 2,
      "metadata": {
        "id": "Jpbg5L89qwr-"
      },
      "outputs": [],
      "source": [
        "#Data 일괄 불러오기\n",
        "import os , glob\n",
        "\n",
        "good_data = glob.glob('/content/drive/MyDrive/grid/grid/train/good/*')\n",
        "anomaly_data = glob.glob('/content/drive/MyDrive/grid/grid/test/*/*.png')"
      ]
    },
    {
      "cell_type": "code",
      "execution_count": 12,
      "metadata": {
        "colab": {
          "base_uri": "https://localhost:8080/"
        },
        "id": "IlaRXCT3q5Dh",
        "outputId": "d76cf2a3-da91-4d6a-d227-9a4843479f45"
      },
      "outputs": [
        {
          "output_type": "execute_result",
          "data": {
            "text/plain": [
              "['/content/drive/MyDrive/grid/grid/test/metal_contamination/007.png',\n",
              " '/content/drive/MyDrive/grid/grid/test/metal_contamination/004.png',\n",
              " '/content/drive/MyDrive/grid/grid/test/metal_contamination/010.png',\n",
              " '/content/drive/MyDrive/grid/grid/test/metal_contamination/008.png',\n",
              " '/content/drive/MyDrive/grid/grid/test/metal_contamination/001.png',\n",
              " '/content/drive/MyDrive/grid/grid/test/metal_contamination/003.png',\n",
              " '/content/drive/MyDrive/grid/grid/test/metal_contamination/002.png',\n",
              " '/content/drive/MyDrive/grid/grid/test/metal_contamination/006.png',\n",
              " '/content/drive/MyDrive/grid/grid/test/metal_contamination/000.png',\n",
              " '/content/drive/MyDrive/grid/grid/test/metal_contamination/009.png',\n",
              " '/content/drive/MyDrive/grid/grid/test/metal_contamination/005.png',\n",
              " '/content/drive/MyDrive/grid/grid/test/bent/001.png',\n",
              " '/content/drive/MyDrive/grid/grid/test/bent/000.png',\n",
              " '/content/drive/MyDrive/grid/grid/test/bent/011.png',\n",
              " '/content/drive/MyDrive/grid/grid/test/bent/009.png',\n",
              " '/content/drive/MyDrive/grid/grid/test/bent/006.png',\n",
              " '/content/drive/MyDrive/grid/grid/test/bent/007.png',\n",
              " '/content/drive/MyDrive/grid/grid/test/bent/005.png',\n",
              " '/content/drive/MyDrive/grid/grid/test/bent/004.png',\n",
              " '/content/drive/MyDrive/grid/grid/test/bent/003.png',\n",
              " '/content/drive/MyDrive/grid/grid/test/bent/002.png',\n",
              " '/content/drive/MyDrive/grid/grid/test/bent/010.png',\n",
              " '/content/drive/MyDrive/grid/grid/test/bent/008.png',\n",
              " '/content/drive/MyDrive/grid/grid/test/thread/001.png',\n",
              " '/content/drive/MyDrive/grid/grid/test/thread/003.png',\n",
              " '/content/drive/MyDrive/grid/grid/test/thread/008.png',\n",
              " '/content/drive/MyDrive/grid/grid/test/thread/000.png',\n",
              " '/content/drive/MyDrive/grid/grid/test/thread/005.png',\n",
              " '/content/drive/MyDrive/grid/grid/test/thread/006.png',\n",
              " '/content/drive/MyDrive/grid/grid/test/thread/004.png',\n",
              " '/content/drive/MyDrive/grid/grid/test/thread/002.png',\n",
              " '/content/drive/MyDrive/grid/grid/test/thread/009.png',\n",
              " '/content/drive/MyDrive/grid/grid/test/thread/007.png',\n",
              " '/content/drive/MyDrive/grid/grid/test/thread/010.png',\n",
              " '/content/drive/MyDrive/grid/grid/test/glue/001.png',\n",
              " '/content/drive/MyDrive/grid/grid/test/glue/004.png',\n",
              " '/content/drive/MyDrive/grid/grid/test/glue/000.png',\n",
              " '/content/drive/MyDrive/grid/grid/test/glue/010.png',\n",
              " '/content/drive/MyDrive/grid/grid/test/glue/005.png',\n",
              " '/content/drive/MyDrive/grid/grid/test/glue/002.png',\n",
              " '/content/drive/MyDrive/grid/grid/test/glue/008.png',\n",
              " '/content/drive/MyDrive/grid/grid/test/glue/003.png',\n",
              " '/content/drive/MyDrive/grid/grid/test/glue/006.png',\n",
              " '/content/drive/MyDrive/grid/grid/test/glue/009.png',\n",
              " '/content/drive/MyDrive/grid/grid/test/glue/007.png',\n",
              " '/content/drive/MyDrive/grid/grid/test/broken/006.png',\n",
              " '/content/drive/MyDrive/grid/grid/test/broken/001.png',\n",
              " '/content/drive/MyDrive/grid/grid/test/broken/009.png',\n",
              " '/content/drive/MyDrive/grid/grid/test/broken/002.png',\n",
              " '/content/drive/MyDrive/grid/grid/test/broken/011.png',\n",
              " '/content/drive/MyDrive/grid/grid/test/broken/004.png',\n",
              " '/content/drive/MyDrive/grid/grid/test/broken/008.png',\n",
              " '/content/drive/MyDrive/grid/grid/test/broken/007.png',\n",
              " '/content/drive/MyDrive/grid/grid/test/broken/003.png',\n",
              " '/content/drive/MyDrive/grid/grid/test/broken/000.png',\n",
              " '/content/drive/MyDrive/grid/grid/test/broken/010.png',\n",
              " '/content/drive/MyDrive/grid/grid/test/broken/005.png']"
            ]
          },
          "metadata": {},
          "execution_count": 12
        }
      ],
      "source": [
        "good_data\n",
        "anomaly_data"
      ]
    },
    {
      "cell_type": "code",
      "execution_count": 13,
      "metadata": {
        "id": "kSoVzSDWutAC"
      },
      "outputs": [],
      "source": [
        "import numpy as np\n",
        "from PIL import Image\n",
        "\n",
        "# 1. resize\n",
        "# 2. type( RGB로)\n",
        "# 3. 픽셀값 0~1 normalize (cf.생성쪽 -1 ~ 1)\n",
        "# 4. numpy\n",
        "\n",
        "x = []\n",
        "y = []\n",
        "data_folder = [good_data,anomaly_data]\n",
        "\n",
        "for idx,folder in enumerate(data_folder):\n",
        "  for file_path in folder:\n",
        "      # 1. resize\n",
        "      image = Image.open(file_path)\n",
        "      image = image.resize((128,128))\n",
        "\n",
        "      # 2. type to RGB\n",
        "      image = image.convert(\"RGB\")\n",
        "\n",
        "      # 3. normalize pixel values (0~1)\n",
        "      image = np.array(image) / 255\n",
        "\n",
        "      # 4. store images as a numpy array\n",
        "      x.append(image)\n",
        "      y.append(idx)\n",
        "\n",
        "x = np.array(x)\n",
        "y = np.array(y)"
      ]
    },
    {
      "cell_type": "code",
      "execution_count": 8,
      "metadata": {
        "colab": {
          "base_uri": "https://localhost:8080/"
        },
        "id": "ffq5OrdnFexS",
        "outputId": "5dd5b24e-d257-4b67-a2a5-ee80835be35d"
      },
      "outputs": [
        {
          "output_type": "stream",
          "name": "stdout",
          "text": [
            "Model: \"sequential\"\n",
            "_________________________________________________________________\n",
            " Layer (type)                Output Shape              Param #   \n",
            "=================================================================\n",
            " conv2d (Conv2D)             (None, 32, 32, 32)        896       \n",
            "                                                                 \n",
            " max_pooling2d (MaxPooling2D  (None, 11, 11, 32)       0         \n",
            " )                                                               \n",
            "                                                                 \n",
            " conv2d_1 (Conv2D)           (None, 11, 11, 64)        18496     \n",
            "                                                                 \n",
            " max_pooling2d_1 (MaxPooling  (None, 5, 5, 64)         0         \n",
            " 2D)                                                             \n",
            "                                                                 \n",
            " conv2d_2 (Conv2D)           (None, 5, 5, 64)          36928     \n",
            "                                                                 \n",
            " conv2d_3 (Conv2D)           (None, 5, 5, 64)          36928     \n",
            "                                                                 \n",
            " conv2d_4 (Conv2D)           (None, 5, 5, 64)          36928     \n",
            "                                                                 \n",
            " conv2d_5 (Conv2D)           (None, 5, 5, 64)          36928     \n",
            "                                                                 \n",
            " conv2d_6 (Conv2D)           (None, 3, 3, 64)          36928     \n",
            "                                                                 \n",
            " flatten (Flatten)           (None, 576)               0         \n",
            "                                                                 \n",
            " dense (Dense)               (None, 64)                36928     \n",
            "                                                                 \n",
            " dense_1 (Dense)             (None, 10)                650       \n",
            "                                                                 \n",
            "=================================================================\n",
            "Total params: 241,610\n",
            "Trainable params: 241,610\n",
            "Non-trainable params: 0\n",
            "_________________________________________________________________\n"
          ]
        }
      ],
      "source": [
        "## 모델 쌓기\n",
        "import tensorflow as tf\n",
        "from tensorflow.keras import layers, models\n",
        "\n",
        "# CNN 모델 생성\n",
        "model = models.Sequential()\n",
        "\n",
        "# 첫 번째 Convolutional Layer, 32x32 input size, 32 filters, 3x3 filter size\n",
        "model.add(layers.Conv2D(32, (3, 3), activation='relu', input_shape=(32, 32, 3),padding='same'))\n",
        "model.add(layers.MaxPooling2D((3, 3), padding='same'))\n",
        "\n",
        "# 두 번째 Convolutional Layer, 64 filters, 3x3 filter size\n",
        "model.add(layers.Conv2D(64, (3, 3), activation='relu',padding='same'))\n",
        "model.add(layers.MaxPooling2D((2, 2)))\n",
        "# 두 번째 Convolutional Layer, 64 filters, 3x3 filter size\n",
        "model.add(layers.Conv2D(64, (3, 3), activation='relu',padding='same'))\n",
        "model.add(layers.Conv2D(64, (3, 3), activation='relu',padding='same'))\n",
        "model.add(layers.Conv2D(64, (3, 3), activation='relu',padding='same'))\n",
        "model.add(layers.Conv2D(64, (3, 3), activation='relu',padding='same'))\n",
        "\n",
        "# 세 번째 Convolutional Layer, 64 filters, 3x3 filter size\n",
        "model.add(layers.Conv2D(64, (3, 3), activation='relu'))\n",
        "\n",
        "# Fully Connected Layer로 변환\n",
        "model.add(layers.Flatten())\n",
        "model.add(layers.Dense(64, activation='relu'))\n",
        "\n",
        "# Output Layer, 10개의 클래스로 분류\n",
        "model.add(layers.Dense(10, activation='softmax'))\n",
        "\n",
        "# 모델 컴파일\n",
        "model.compile(optimizer='adam',\n",
        "              loss=tf.keras.losses.SparseCategoricalCrossentropy(from_logits=True),\n",
        "              metrics=['accuracy'])\n",
        "model.summary()"
      ]
    },
    {
      "cell_type": "code",
      "execution_count": 9,
      "metadata": {
        "colab": {
          "base_uri": "https://localhost:8080/"
        },
        "id": "kqMXA41qGLYT",
        "outputId": "1ac62ce7-50c8-4ebb-f6ef-fb0ba91c136c"
      },
      "outputs": [
        {
          "output_type": "stream",
          "name": "stdout",
          "text": [
            "Downloading data from https://www.cs.toronto.edu/~kriz/cifar-10-python.tar.gz\n",
            "170498071/170498071 [==============================] - 2s 0us/step\n"
          ]
        }
      ],
      "source": [
        "(x_train,y_train),(x_test,y_test) = tf.keras.datasets.cifar10.load_data()"
      ]
    },
    {
      "cell_type": "code",
      "execution_count": 10,
      "metadata": {
        "colab": {
          "base_uri": "https://localhost:8080/"
        },
        "id": "nsTf0_IEGOTB",
        "outputId": "0964d382-92c5-4ecc-8f2b-565013219c06"
      },
      "outputs": [
        {
          "output_type": "execute_result",
          "data": {
            "text/plain": [
              "array([[[0.23137255, 0.24313725, 0.24705882],\n",
              "        [0.16862745, 0.18039216, 0.17647059],\n",
              "        [0.19607843, 0.18823529, 0.16862745],\n",
              "        ...,\n",
              "        [0.61960784, 0.51764706, 0.42352941],\n",
              "        [0.59607843, 0.49019608, 0.4       ],\n",
              "        [0.58039216, 0.48627451, 0.40392157]],\n",
              "\n",
              "       [[0.0627451 , 0.07843137, 0.07843137],\n",
              "        [0.        , 0.        , 0.        ],\n",
              "        [0.07058824, 0.03137255, 0.        ],\n",
              "        ...,\n",
              "        [0.48235294, 0.34509804, 0.21568627],\n",
              "        [0.46666667, 0.3254902 , 0.19607843],\n",
              "        [0.47843137, 0.34117647, 0.22352941]],\n",
              "\n",
              "       [[0.09803922, 0.09411765, 0.08235294],\n",
              "        [0.0627451 , 0.02745098, 0.        ],\n",
              "        [0.19215686, 0.10588235, 0.03137255],\n",
              "        ...,\n",
              "        [0.4627451 , 0.32941176, 0.19607843],\n",
              "        [0.47058824, 0.32941176, 0.19607843],\n",
              "        [0.42745098, 0.28627451, 0.16470588]],\n",
              "\n",
              "       ...,\n",
              "\n",
              "       [[0.81568627, 0.66666667, 0.37647059],\n",
              "        [0.78823529, 0.6       , 0.13333333],\n",
              "        [0.77647059, 0.63137255, 0.10196078],\n",
              "        ...,\n",
              "        [0.62745098, 0.52156863, 0.2745098 ],\n",
              "        [0.21960784, 0.12156863, 0.02745098],\n",
              "        [0.20784314, 0.13333333, 0.07843137]],\n",
              "\n",
              "       [[0.70588235, 0.54509804, 0.37647059],\n",
              "        [0.67843137, 0.48235294, 0.16470588],\n",
              "        [0.72941176, 0.56470588, 0.11764706],\n",
              "        ...,\n",
              "        [0.72156863, 0.58039216, 0.36862745],\n",
              "        [0.38039216, 0.24313725, 0.13333333],\n",
              "        [0.3254902 , 0.20784314, 0.13333333]],\n",
              "\n",
              "       [[0.69411765, 0.56470588, 0.45490196],\n",
              "        [0.65882353, 0.50588235, 0.36862745],\n",
              "        [0.70196078, 0.55686275, 0.34117647],\n",
              "        ...,\n",
              "        [0.84705882, 0.72156863, 0.54901961],\n",
              "        [0.59215686, 0.4627451 , 0.32941176],\n",
              "        [0.48235294, 0.36078431, 0.28235294]]])"
            ]
          },
          "metadata": {},
          "execution_count": 10
        }
      ],
      "source": [
        "x_train.shape\n",
        "y_train.shape\n",
        "x_train = x_train / 255\n",
        "x_test = x_test / 255\n",
        "x_train[0]"
      ]
    },
    {
      "cell_type": "code",
      "execution_count": 15,
      "metadata": {
        "colab": {
          "base_uri": "https://localhost:8080/"
        },
        "id": "wXtIfDpFGG3B",
        "outputId": "d4f528c5-6fbe-4e08-b766-d539e24c2d89"
      },
      "outputs": [
        {
          "output_type": "stream",
          "name": "stdout",
          "text": [
            "Epoch 1/10\n",
            "1563/1563 [==============================] - 11s 7ms/step - loss: 0.3287 - accuracy: 0.8838 - val_loss: 1.2184 - val_accuracy: 0.7020\n",
            "Epoch 2/10\n",
            "1563/1563 [==============================] - 11s 7ms/step - loss: 0.3115 - accuracy: 0.8906 - val_loss: 1.2315 - val_accuracy: 0.7052\n",
            "Epoch 3/10\n",
            "1563/1563 [==============================] - 10s 6ms/step - loss: 0.3081 - accuracy: 0.8913 - val_loss: 1.2013 - val_accuracy: 0.7023\n",
            "Epoch 4/10\n",
            "1563/1563 [==============================] - 10s 7ms/step - loss: 0.2977 - accuracy: 0.8948 - val_loss: 1.2079 - val_accuracy: 0.7064\n",
            "Epoch 5/10\n",
            "1563/1563 [==============================] - 11s 7ms/step - loss: 0.2897 - accuracy: 0.8987 - val_loss: 1.2213 - val_accuracy: 0.7004\n",
            "Epoch 6/10\n",
            "1563/1563 [==============================] - 11s 7ms/step - loss: 0.2778 - accuracy: 0.9021 - val_loss: 1.3285 - val_accuracy: 0.7075\n",
            "Epoch 7/10\n",
            "1563/1563 [==============================] - 10s 7ms/step - loss: 0.2691 - accuracy: 0.9063 - val_loss: 1.3749 - val_accuracy: 0.6936\n",
            "Epoch 8/10\n",
            "1563/1563 [==============================] - 10s 7ms/step - loss: 0.2598 - accuracy: 0.9094 - val_loss: 1.3437 - val_accuracy: 0.7002\n",
            "Epoch 9/10\n",
            "1563/1563 [==============================] - 11s 7ms/step - loss: 0.2486 - accuracy: 0.9145 - val_loss: 1.3644 - val_accuracy: 0.7024\n",
            "Epoch 10/10\n",
            "1563/1563 [==============================] - 11s 7ms/step - loss: 0.2427 - accuracy: 0.9147 - val_loss: 1.3694 - val_accuracy: 0.7002\n"
          ]
        },
        {
          "output_type": "execute_result",
          "data": {
            "text/plain": [
              "<keras.callbacks.History at 0x797db9845c00>"
            ]
          },
          "metadata": {},
          "execution_count": 15
        }
      ],
      "source": [
        "model.fit(x_train,y_train,validation_data=(x_test,y_test), epochs=10)"
      ]
    },
    {
      "cell_type": "code",
      "execution_count": null,
      "metadata": {
        "id": "t0KXlrrN9l4W"
      },
      "outputs": [],
      "source": []
    }
  ],
  "metadata": {
    "accelerator": "GPU",
    "colab": {
      "provenance": [],
      "mount_file_id": "1OjjIo5vFyRGItVb8XmOX5HACsJtubnoC",
      "authorship_tag": "ABX9TyOwIZ4bubk3lE0qyZZrZiXE",
      "include_colab_link": true
    },
    "kernelspec": {
      "display_name": "Python 3",
      "name": "python3"
    },
    "language_info": {
      "name": "python"
    }
  },
  "nbformat": 4,
  "nbformat_minor": 0
}