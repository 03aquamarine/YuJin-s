{
  "cells": [
    {
      "cell_type": "markdown",
      "metadata": {
        "id": "view-in-github",
        "colab_type": "text"
      },
      "source": [
        "<a href=\"https://colab.research.google.com/github/03aquamarine/YuJin-s/blob/main/0719Wed_%EA%B0%9C%EC%9D%B8%ED%94%84%EB%A1%9C%EC%A0%9D%ED%8A%B802_%EC%84%B1%EA%B7%A0%EA%B4%80%EB%8C%80_%EB%85%B8%EC%9C%A0%EC%A7%84_%EB%B6%88%EB%9F%89_%EC%A0%9C%ED%92%88_%EC%9E%90%EB%8F%99_%ED%83%90%EC%A7%80.ipynb\" target=\"_parent\"><img src=\"https://colab.research.google.com/assets/colab-badge.svg\" alt=\"Open In Colab\"/></a>"
      ]
    },
    {
      "cell_type": "markdown",
      "metadata": {
        "id": "qLgJOETSqkls"
      },
      "source": [
        "1. data 불러오기\n",
        "2. labeling\n",
        "3. 전처리\n",
        "4. 학습\n",
        "5. predict"
      ]
    },
    {
      "cell_type": "markdown",
      "source": [
        "# 1. Load data"
      ],
      "metadata": {
        "id": "Iyd8tIP48D_o"
      }
    },
    {
      "cell_type": "code",
      "execution_count": null,
      "metadata": {
        "id": "d7KyjnpAnuHG"
      },
      "outputs": [],
      "source": [
        "from google.colab import drive\n",
        "drive.mount('/content/drive')"
      ]
    },
    {
      "cell_type": "code",
      "execution_count": null,
      "metadata": {
        "id": "Jpbg5L89qwr-"
      },
      "outputs": [],
      "source": [
        "# Data 일괄 불러오기\n",
        "import os , glob\n",
        "\n",
        "good_data = glob.glob('/content/drive/MyDrive/grid/grid/train/good/*')\n",
        "anomaly_data = glob.glob('/content/drive/MyDrive/grid/grid/test/*/*.png')"
      ]
    },
    {
      "cell_type": "code",
      "execution_count": null,
      "metadata": {
        "id": "IlaRXCT3q5Dh"
      },
      "outputs": [],
      "source": [
        "good_data\n",
        "anomaly_data"
      ]
    },
    {
      "cell_type": "markdown",
      "source": [
        "# 2. Data labeling & preprocessing\n"
      ],
      "metadata": {
        "id": "188YDOB_8L4E"
      }
    },
    {
      "cell_type": "code",
      "execution_count": null,
      "metadata": {
        "id": "kSoVzSDWutAC"
      },
      "outputs": [],
      "source": [
        "import numpy as np\n",
        "from PIL import Image\n",
        "\n",
        "# 1. resize\n",
        "# 2. type( RGB로)\n",
        "# 3. 픽셀값 0~1 normalize (cf.생성 -1 ~ 1)\n",
        "# 4. numpy\n",
        "\n",
        "x = []\n",
        "y = []\n",
        "data_folder = [good_data,anomaly_data]\n",
        "\n",
        "for idx,folder in enumerate(data_folder):\n",
        "  for file_path in folder:\n",
        "      # 1. resize\n",
        "      image = Image.open(file_path)\n",
        "      image = image.resize((128,128))\n",
        "\n",
        "      # 2. type to RGB\n",
        "      image = image.convert(\"RGB\")\n",
        "\n",
        "      # 3. normalize pixel values (0~1)\n",
        "      image = np.array(image) / 255\n",
        "\n",
        "      # 4. store images as a numpy array\n",
        "      x.append(image)\n",
        "      y.append(idx)\n",
        "\n",
        "x = np.array(x)\n",
        "y = np.array(y)"
      ]
    },
    {
      "cell_type": "code",
      "source": [
        "from sklearn.model_selection import train_test_split\n",
        "\n",
        "# training sets와 testing sets로 data 분할\n",
        "x_train, x_test, y_train, y_test = train_test_split(x, y, test_size=0.2, random_state=42)\n",
        "\n",
        "# Shuffle the training data\n",
        "shuffle_indices = np.arange(len(x_train))\n",
        "np.random.shuffle(shuffle_indices)\n",
        "x_train = x_train[shuffle_indices]\n",
        "y_train = y_train[shuffle_indices]\n"
      ],
      "metadata": {
        "id": "a8rtlpBmygPr"
      },
      "execution_count": null,
      "outputs": []
    },
    {
      "cell_type": "markdown",
      "source": [
        "# 3. Model learning"
      ],
      "metadata": {
        "id": "eg-MssvU9FvN"
      }
    },
    {
      "cell_type": "code",
      "source": [
        "# VGG16 model\n",
        "\n",
        "from tensorflow.keras.applications import VGG16\n",
        "from tensorflow.keras.models import Sequential\n",
        "from tensorflow.keras.layers import Dense, Flatten\n",
        "\n",
        "from tensorflow.keras.utils import to_categorical\n",
        "\n",
        "### 에러)`logits` and `labels` must have the same shape, received ((None, 2) vs (None, 1)) 해결하기 위해 one-hot encoding\n",
        "### one-hot encoding : converts categorical labels into a binary matrix\n",
        "# Convert y_train and y_test to one-hot encoded format\n",
        "y_train_one_hot = to_categorical(y_train, num_classes=2)\n",
        "y_test_one_hot = to_categorical(y_test, num_classes=2)\n",
        "\n",
        "# Load the VGG16 model (without the top classification layer)\n",
        "vgg16_base = VGG16(weights='imagenet', include_top=False, input_shape=(128, 128, 3))\n",
        "\n",
        "# Freeze the layers in VGG16\n",
        "for layer in vgg16_base.layers:\n",
        "    layer.trainable = False\n",
        "\n",
        "# Create a new model with VGG16 as the base\n",
        "model = Sequential()\n",
        "model.add(vgg16_base)\n",
        "model.add(Flatten())\n",
        "model.add(Dense(128, activation='relu'))\n",
        "model.add(Dense(2, activation='sigmoid'))  # Change the units to 2 for binary classification\n",
        "\n",
        "# Compile the model\n",
        "model.compile(optimizer='adam', loss='binary_crossentropy', metrics=['accuracy'])\n",
        "\n",
        "# Print model summary\n",
        "model.summary()\n"
      ],
      "metadata": {
        "id": "V7mAPYl61EAd",
        "colab": {
          "base_uri": "https://localhost:8080/"
        },
        "outputId": "285b6dc5-65fe-4445-cf43-075bb646402a"
      },
      "execution_count": null,
      "outputs": [
        {
          "output_type": "stream",
          "name": "stdout",
          "text": [
            "Model: \"sequential_1\"\n",
            "_________________________________________________________________\n",
            " Layer (type)                Output Shape              Param #   \n",
            "=================================================================\n",
            " vgg16 (Functional)          (None, 4, 4, 512)         14714688  \n",
            "                                                                 \n",
            " flatten_1 (Flatten)         (None, 8192)              0         \n",
            "                                                                 \n",
            " dense_2 (Dense)             (None, 128)               1048704   \n",
            "                                                                 \n",
            " dense_3 (Dense)             (None, 2)                 258       \n",
            "                                                                 \n",
            "=================================================================\n",
            "Total params: 15,763,650\n",
            "Trainable params: 1,048,962\n",
            "Non-trainable params: 14,714,688\n",
            "_________________________________________________________________\n"
          ]
        }
      ]
    },
    {
      "cell_type": "code",
      "source": [
        "# Train the model\n",
        "model.fit(x_train, y_train_one_hot, epochs=10, batch_size=32, validation_split=0.1)\n",
        "\n",
        "# Evaluate the model on the test set\n",
        "test_loss, test_acc = model.evaluate(x_test, y_test_one_hot)\n",
        "print(\"Test accuracy:\", test_acc)\n"
      ],
      "metadata": {
        "id": "t53oqAsV1HCC",
        "colab": {
          "base_uri": "https://localhost:8080/"
        },
        "outputId": "27ba986d-991c-4450-b859-6c0f39dcc376"
      },
      "execution_count": null,
      "outputs": [
        {
          "output_type": "stream",
          "name": "stdout",
          "text": [
            "Epoch 1/10\n",
            "8/8 [==============================] - 51s 6s/step - loss: 0.7108 - accuracy: 0.7870 - val_loss: 0.5848 - val_accuracy: 0.8077\n",
            "Epoch 2/10\n",
            "8/8 [==============================] - 49s 6s/step - loss: 0.5050 - accuracy: 0.8304 - val_loss: 0.5639 - val_accuracy: 0.8077\n",
            "Epoch 3/10\n",
            "8/8 [==============================] - 48s 6s/step - loss: 0.4927 - accuracy: 0.8304 - val_loss: 0.5045 - val_accuracy: 0.8077\n",
            "Epoch 4/10\n",
            "8/8 [==============================] - 47s 6s/step - loss: 0.4397 - accuracy: 0.8391 - val_loss: 0.5091 - val_accuracy: 0.8077\n",
            "Epoch 5/10\n",
            "8/8 [==============================] - 55s 6s/step - loss: 0.4039 - accuracy: 0.8304 - val_loss: 0.5142 - val_accuracy: 0.8077\n",
            "Epoch 6/10\n",
            "8/8 [==============================] - 47s 6s/step - loss: 0.3798 - accuracy: 0.8435 - val_loss: 0.5018 - val_accuracy: 0.8077\n",
            "Epoch 7/10\n",
            "8/8 [==============================] - 47s 6s/step - loss: 0.3916 - accuracy: 0.8522 - val_loss: 0.5035 - val_accuracy: 0.7692\n",
            "Epoch 8/10\n",
            "8/8 [==============================] - 47s 6s/step - loss: 0.3996 - accuracy: 0.8435 - val_loss: 0.4897 - val_accuracy: 0.8077\n",
            "Epoch 9/10\n",
            "8/8 [==============================] - 49s 6s/step - loss: 0.3640 - accuracy: 0.8522 - val_loss: 0.5124 - val_accuracy: 0.8077\n",
            "Epoch 10/10\n",
            "8/8 [==============================] - 47s 6s/step - loss: 0.3434 - accuracy: 0.8348 - val_loss: 0.5185 - val_accuracy: 0.8077\n",
            "3/3 [==============================] - 10s 3s/step - loss: 0.4914 - accuracy: 0.8000\n",
            "Test accuracy: 0.800000011920929\n"
          ]
        }
      ]
    },
    {
      "cell_type": "markdown",
      "source": [
        "# 4. Prediction"
      ],
      "metadata": {
        "id": "iNlGp_Bn_pWj"
      }
    },
    {
      "cell_type": "code",
      "source": [],
      "metadata": {
        "id": "oNczKzh94-ID"
      },
      "execution_count": null,
      "outputs": []
    }
  ],
  "metadata": {
    "colab": {
      "provenance": [],
      "gpuType": "T4",
      "mount_file_id": "1OjjIo5vFyRGItVb8XmOX5HACsJtubnoC",
      "authorship_tag": "ABX9TyOEzhmCdHdeEyx4B/YJsKXK",
      "include_colab_link": true
    },
    "kernelspec": {
      "display_name": "Python 3",
      "name": "python3"
    },
    "language_info": {
      "name": "python"
    }
  },
  "nbformat": 4,
  "nbformat_minor": 0
}