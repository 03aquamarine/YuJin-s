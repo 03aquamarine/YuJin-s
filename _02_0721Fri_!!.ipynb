{
  "cells": [
    {
      "cell_type": "markdown",
      "metadata": {
        "id": "view-in-github",
        "colab_type": "text"
      },
      "source": [
        "<a href=\"https://colab.research.google.com/github/03aquamarine/YuJin-s/blob/main/_02_0721Fri_!!.ipynb\" target=\"_parent\"><img src=\"https://colab.research.google.com/assets/colab-badge.svg\" alt=\"Open In Colab\"/></a>"
      ]
    },
    {
      "cell_type": "markdown",
      "metadata": {
        "id": "qLgJOETSqkls"
      },
      "source": [
        "1. data 불러오기\n",
        "2. labeling\n",
        "3. 전처리\n",
        "4. 학습\n",
        "5. predict"
      ]
    },
    {
      "cell_type": "markdown",
      "source": [
        "# 1. Load data"
      ],
      "metadata": {
        "id": "Iyd8tIP48D_o"
      }
    },
    {
      "cell_type": "code",
      "execution_count": 1,
      "metadata": {
        "id": "d7KyjnpAnuHG",
        "colab": {
          "base_uri": "https://localhost:8080/"
        },
        "outputId": "c0bdb590-96a0-4fce-813a-1d26c9715ec9"
      },
      "outputs": [
        {
          "output_type": "stream",
          "name": "stdout",
          "text": [
            "Mounted at /content/drive\n"
          ]
        }
      ],
      "source": [
        "from google.colab import drive\n",
        "drive.mount('/content/drive')"
      ]
    },
    {
      "cell_type": "code",
      "execution_count": 2,
      "metadata": {
        "id": "Jpbg5L89qwr-"
      },
      "outputs": [],
      "source": [
        "# Data 일괄 불러오기\n",
        "import os , glob\n",
        "\n",
        "good_data = glob.glob('/content/drive/MyDrive/bottle/train/good/*')\n",
        "anomaly_data = glob.glob('/content/drive/MyDrive/bottle/test/*/*.png')"
      ]
    },
    {
      "cell_type": "code",
      "execution_count": 3,
      "metadata": {
        "id": "IlaRXCT3q5Dh",
        "colab": {
          "base_uri": "https://localhost:8080/"
        },
        "outputId": "f06e1ed3-5142-4d1f-9ee0-ecab691c0ec8"
      },
      "outputs": [
        {
          "output_type": "execute_result",
          "data": {
            "text/plain": [
              "['/content/drive/MyDrive/bottle/test/broken_large/009.png',\n",
              " '/content/drive/MyDrive/bottle/test/broken_large/004.png',\n",
              " '/content/drive/MyDrive/bottle/test/broken_large/012.png',\n",
              " '/content/drive/MyDrive/bottle/test/broken_large/000.png',\n",
              " '/content/drive/MyDrive/bottle/test/broken_large/010.png',\n",
              " '/content/drive/MyDrive/bottle/test/broken_large/015.png',\n",
              " '/content/drive/MyDrive/bottle/test/broken_large/017.png',\n",
              " '/content/drive/MyDrive/bottle/test/broken_large/002.png',\n",
              " '/content/drive/MyDrive/bottle/test/broken_large/019.png',\n",
              " '/content/drive/MyDrive/bottle/test/broken_large/014.png',\n",
              " '/content/drive/MyDrive/bottle/test/broken_large/008.png',\n",
              " '/content/drive/MyDrive/bottle/test/broken_large/018.png',\n",
              " '/content/drive/MyDrive/bottle/test/broken_large/005.png',\n",
              " '/content/drive/MyDrive/bottle/test/broken_large/003.png',\n",
              " '/content/drive/MyDrive/bottle/test/broken_large/016.png',\n",
              " '/content/drive/MyDrive/bottle/test/broken_large/006.png',\n",
              " '/content/drive/MyDrive/bottle/test/broken_large/001.png',\n",
              " '/content/drive/MyDrive/bottle/test/broken_large/013.png',\n",
              " '/content/drive/MyDrive/bottle/test/broken_large/011.png',\n",
              " '/content/drive/MyDrive/bottle/test/broken_large/007.png',\n",
              " '/content/drive/MyDrive/bottle/test/broken_small/017.png',\n",
              " '/content/drive/MyDrive/bottle/test/broken_small/015.png',\n",
              " '/content/drive/MyDrive/bottle/test/broken_small/006.png',\n",
              " '/content/drive/MyDrive/bottle/test/broken_small/014.png',\n",
              " '/content/drive/MyDrive/bottle/test/broken_small/012.png',\n",
              " '/content/drive/MyDrive/bottle/test/broken_small/016.png',\n",
              " '/content/drive/MyDrive/bottle/test/broken_small/010.png',\n",
              " '/content/drive/MyDrive/bottle/test/broken_small/018.png',\n",
              " '/content/drive/MyDrive/bottle/test/broken_small/003.png',\n",
              " '/content/drive/MyDrive/bottle/test/broken_small/002.png',\n",
              " '/content/drive/MyDrive/bottle/test/broken_small/008.png',\n",
              " '/content/drive/MyDrive/bottle/test/broken_small/021.png',\n",
              " '/content/drive/MyDrive/bottle/test/broken_small/000.png',\n",
              " '/content/drive/MyDrive/bottle/test/broken_small/005.png',\n",
              " '/content/drive/MyDrive/bottle/test/broken_small/020.png',\n",
              " '/content/drive/MyDrive/bottle/test/broken_small/019.png',\n",
              " '/content/drive/MyDrive/bottle/test/broken_small/009.png',\n",
              " '/content/drive/MyDrive/bottle/test/broken_small/004.png',\n",
              " '/content/drive/MyDrive/bottle/test/broken_small/013.png',\n",
              " '/content/drive/MyDrive/bottle/test/broken_small/001.png',\n",
              " '/content/drive/MyDrive/bottle/test/broken_small/011.png',\n",
              " '/content/drive/MyDrive/bottle/test/broken_small/007.png',\n",
              " '/content/drive/MyDrive/bottle/test/contamination/018.png',\n",
              " '/content/drive/MyDrive/bottle/test/contamination/012.png',\n",
              " '/content/drive/MyDrive/bottle/test/contamination/017.png',\n",
              " '/content/drive/MyDrive/bottle/test/contamination/015.png',\n",
              " '/content/drive/MyDrive/bottle/test/contamination/016.png',\n",
              " '/content/drive/MyDrive/bottle/test/contamination/020.png',\n",
              " '/content/drive/MyDrive/bottle/test/contamination/010.png',\n",
              " '/content/drive/MyDrive/bottle/test/contamination/003.png',\n",
              " '/content/drive/MyDrive/bottle/test/contamination/014.png',\n",
              " '/content/drive/MyDrive/bottle/test/contamination/007.png',\n",
              " '/content/drive/MyDrive/bottle/test/contamination/008.png',\n",
              " '/content/drive/MyDrive/bottle/test/contamination/013.png',\n",
              " '/content/drive/MyDrive/bottle/test/contamination/011.png',\n",
              " '/content/drive/MyDrive/bottle/test/contamination/002.png',\n",
              " '/content/drive/MyDrive/bottle/test/contamination/019.png',\n",
              " '/content/drive/MyDrive/bottle/test/contamination/004.png',\n",
              " '/content/drive/MyDrive/bottle/test/contamination/000.png',\n",
              " '/content/drive/MyDrive/bottle/test/contamination/001.png',\n",
              " '/content/drive/MyDrive/bottle/test/contamination/006.png',\n",
              " '/content/drive/MyDrive/bottle/test/contamination/009.png',\n",
              " '/content/drive/MyDrive/bottle/test/contamination/005.png',\n",
              " '/content/drive/MyDrive/bottle/test/good/010.png',\n",
              " '/content/drive/MyDrive/bottle/test/good/019.png',\n",
              " '/content/drive/MyDrive/bottle/test/good/009.png',\n",
              " '/content/drive/MyDrive/bottle/test/good/006.png',\n",
              " '/content/drive/MyDrive/bottle/test/good/005.png',\n",
              " '/content/drive/MyDrive/bottle/test/good/011.png',\n",
              " '/content/drive/MyDrive/bottle/test/good/016.png',\n",
              " '/content/drive/MyDrive/bottle/test/good/000.png',\n",
              " '/content/drive/MyDrive/bottle/test/good/007.png',\n",
              " '/content/drive/MyDrive/bottle/test/good/012.png',\n",
              " '/content/drive/MyDrive/bottle/test/good/008.png',\n",
              " '/content/drive/MyDrive/bottle/test/good/002.png',\n",
              " '/content/drive/MyDrive/bottle/test/good/003.png',\n",
              " '/content/drive/MyDrive/bottle/test/good/001.png',\n",
              " '/content/drive/MyDrive/bottle/test/good/014.png',\n",
              " '/content/drive/MyDrive/bottle/test/good/018.png',\n",
              " '/content/drive/MyDrive/bottle/test/good/013.png',\n",
              " '/content/drive/MyDrive/bottle/test/good/004.png',\n",
              " '/content/drive/MyDrive/bottle/test/good/017.png',\n",
              " '/content/drive/MyDrive/bottle/test/good/015.png']"
            ]
          },
          "metadata": {},
          "execution_count": 3
        }
      ],
      "source": [
        "good_data\n",
        "anomaly_data"
      ]
    },
    {
      "cell_type": "markdown",
      "source": [
        "# 2. Data labeling & preprocessing\n"
      ],
      "metadata": {
        "id": "188YDOB_8L4E"
      }
    },
    {
      "cell_type": "code",
      "execution_count": 4,
      "metadata": {
        "id": "kSoVzSDWutAC"
      },
      "outputs": [],
      "source": [
        "import numpy as np\n",
        "from PIL import Image\n",
        "\n",
        "# 1. resize\n",
        "# 2. type( RGB로)\n",
        "# 3. 픽셀값 0~1 normalize (cf.생성 -1 ~ 1)\n",
        "# 4. numpy\n",
        "\n",
        "x = []\n",
        "y = []\n",
        "data_folder = [good_data,anomaly_data]\n",
        "\n",
        "for idx,folder in enumerate(data_folder):\n",
        "  for file_path in folder:\n",
        "      # 1. resize\n",
        "      image = Image.open(file_path)\n",
        "      image = image.resize((128,128))\n",
        "\n",
        "      # 2. type to RGB\n",
        "      image = image.convert(\"RGB\")\n",
        "\n",
        "      # 3. normalize pixel values (0~1)\n",
        "      image = np.array(image) / 255\n",
        "\n",
        "      # 4. store images as a numpy array\n",
        "      x.append(image)\n",
        "      y.append(idx)\n",
        "\n",
        "x = np.array(x)\n",
        "y = np.array(y)"
      ]
    },
    {
      "cell_type": "code",
      "source": [
        "from sklearn.model_selection import train_test_split\n",
        "\n",
        "# training sets와 testing sets로 data 분할\n",
        "x_train, x_test, y_train, y_test = train_test_split(x, y, test_size=0.2, random_state=42)\n",
        "\n",
        "# Shuffle the training data\n",
        "shuffle_indices = np.arange(len(x_train))\n",
        "np.random.shuffle(shuffle_indices)\n",
        "x_train = x_train[shuffle_indices]\n",
        "y_train = y_train[shuffle_indices]\n"
      ],
      "metadata": {
        "id": "a8rtlpBmygPr"
      },
      "execution_count": 5,
      "outputs": []
    },
    {
      "cell_type": "markdown",
      "source": [
        "# 3. Model learning"
      ],
      "metadata": {
        "id": "eg-MssvU9FvN"
      }
    },
    {
      "cell_type": "code",
      "source": [
        "# VGG16 model\n",
        "\n",
        "from tensorflow.keras.applications import VGG16\n",
        "from tensorflow.keras.models import Sequential\n",
        "from tensorflow.keras.layers import Dense, Flatten\n",
        "\n",
        "from tensorflow.keras.utils import to_categorical\n",
        "\n",
        "### 에러)`logits` and `labels` must have the same shape, received ((None, 2) vs (None, 1)) 해결하기 위해 one-hot encoding\n",
        "### one-hot encoding : converts categorical labels into a binary matrix\n",
        "# Convert y_train and y_test to one-hot encoded format\n",
        "y_train_one_hot = to_categorical(y_train, num_classes=2)\n",
        "y_test_one_hot = to_categorical(y_test, num_classes=2)\n",
        "\n",
        "# Load the VGG16 model (without the top classification layer)\n",
        "vgg16_base = VGG16(weights='imagenet', include_top=False, input_shape=(128, 128, 3))\n",
        "\n",
        "# Freeze the layers in VGG16\n",
        "for layer in vgg16_base.layers:\n",
        "    layer.trainable = False\n",
        "\n",
        "# Create a new model with VGG16 as the base\n",
        "model = Sequential()\n",
        "model.add(vgg16_base)\n",
        "model.add(Flatten())\n",
        "model.add(Dense(128, activation='relu'))\n",
        "model.add(Dense(2, activation='sigmoid'))  # Change the units to 2 for binary classification\n",
        "\n",
        "# Compile the model\n",
        "model.compile(optimizer='adam', loss='binary_crossentropy', metrics=['accuracy'])\n",
        "\n",
        "# Print model summary\n",
        "model.summary()\n"
      ],
      "metadata": {
        "id": "V7mAPYl61EAd",
        "colab": {
          "base_uri": "https://localhost:8080/"
        },
        "outputId": "30e07e83-c1b6-42ab-d8a7-ee533555a471"
      },
      "execution_count": 6,
      "outputs": [
        {
          "output_type": "stream",
          "name": "stdout",
          "text": [
            "Downloading data from https://storage.googleapis.com/tensorflow/keras-applications/vgg16/vgg16_weights_tf_dim_ordering_tf_kernels_notop.h5\n",
            "58889256/58889256 [==============================] - 2s 0us/step\n",
            "Model: \"sequential\"\n",
            "_________________________________________________________________\n",
            " Layer (type)                Output Shape              Param #   \n",
            "=================================================================\n",
            " vgg16 (Functional)          (None, 4, 4, 512)         14714688  \n",
            "                                                                 \n",
            " flatten (Flatten)           (None, 8192)              0         \n",
            "                                                                 \n",
            " dense (Dense)               (None, 128)               1048704   \n",
            "                                                                 \n",
            " dense_1 (Dense)             (None, 2)                 258       \n",
            "                                                                 \n",
            "=================================================================\n",
            "Total params: 15,763,650\n",
            "Trainable params: 1,048,962\n",
            "Non-trainable params: 14,714,688\n",
            "_________________________________________________________________\n"
          ]
        }
      ]
    },
    {
      "cell_type": "code",
      "source": [
        "# Train the model and store the history\n",
        "history = model.fit(x_train, y_train_one_hot, epochs=10, batch_size=32, validation_split=0.1)\n",
        "\n",
        "# Evaluate the model on the test set\n",
        "test_loss, test_acc = model.evaluate(x_test, y_test_one_hot)\n",
        "print(\"Test accuracy:\", test_acc)\n"
      ],
      "metadata": {
        "id": "t53oqAsV1HCC",
        "colab": {
          "base_uri": "https://localhost:8080/"
        },
        "outputId": "39ef43ee-0fb2-44a8-93e1-55279b2d8f79"
      },
      "execution_count": 7,
      "outputs": [
        {
          "output_type": "stream",
          "name": "stdout",
          "text": [
            "Epoch 1/10\n",
            "7/7 [==============================] - 14s 509ms/step - loss: 0.7387 - accuracy: 0.6364 - val_loss: 0.7108 - val_accuracy: 0.3333\n",
            "Epoch 2/10\n",
            "7/7 [==============================] - 0s 49ms/step - loss: 0.6371 - accuracy: 0.6699 - val_loss: 0.5989 - val_accuracy: 0.6667\n",
            "Epoch 3/10\n",
            "7/7 [==============================] - 0s 49ms/step - loss: 0.5266 - accuracy: 0.8230 - val_loss: 0.4494 - val_accuracy: 0.8333\n",
            "Epoch 4/10\n",
            "7/7 [==============================] - 0s 48ms/step - loss: 0.4850 - accuracy: 0.7943 - val_loss: 0.4431 - val_accuracy: 0.7917\n",
            "Epoch 5/10\n",
            "7/7 [==============================] - 0s 49ms/step - loss: 0.4556 - accuracy: 0.8469 - val_loss: 0.3849 - val_accuracy: 0.8333\n",
            "Epoch 6/10\n",
            "7/7 [==============================] - 0s 48ms/step - loss: 0.4257 - accuracy: 0.8182 - val_loss: 0.3622 - val_accuracy: 0.8333\n",
            "Epoch 7/10\n",
            "7/7 [==============================] - 0s 48ms/step - loss: 0.3985 - accuracy: 0.8756 - val_loss: 0.3428 - val_accuracy: 0.8333\n",
            "Epoch 8/10\n",
            "7/7 [==============================] - 0s 51ms/step - loss: 0.3871 - accuracy: 0.8612 - val_loss: 0.3122 - val_accuracy: 0.8750\n",
            "Epoch 9/10\n",
            "7/7 [==============================] - 0s 49ms/step - loss: 0.3567 - accuracy: 0.8804 - val_loss: 0.3118 - val_accuracy: 0.8333\n",
            "Epoch 10/10\n",
            "7/7 [==============================] - 0s 49ms/step - loss: 0.3704 - accuracy: 0.8708 - val_loss: 0.2957 - val_accuracy: 0.9167\n",
            "2/2 [==============================] - 2s 2s/step - loss: 0.3868 - accuracy: 0.8814\n",
            "Test accuracy: 0.8813559412956238\n"
          ]
        }
      ]
    },
    {
      "cell_type": "code",
      "source": [
        "# Save model\n",
        "model.save('history.h5')"
      ],
      "metadata": {
        "id": "eKga54ePqRPY"
      },
      "execution_count": 8,
      "outputs": []
    },
    {
      "cell_type": "code",
      "source": [
        "# Plot training and validation accuracy curves\n",
        "import matplotlib.pyplot as plt\n",
        "\n",
        "# Get the training and validation accuracy from the history object\n",
        "training_accuracy = history.history['accuracy']\n",
        "validation_accuracy = history.history['val_accuracy']\n",
        "\n",
        "# Get the training and validation loss from the history object\n",
        "training_loss = history.history['loss']\n",
        "validation_loss = history.history['val_loss']\n",
        "\n",
        "# Create a plot to visualize the accuracy\n",
        "plt.figure(figsize=(10, 5))\n",
        "plt.subplot(1, 2, 1)\n",
        "plt.plot(range(1, len(training_accuracy) + 1), training_accuracy, label='Training Accuracy')\n",
        "plt.plot(range(1, len(validation_accuracy) + 1), validation_accuracy, label='Validation Accuracy')\n",
        "plt.xlabel('Epoch')\n",
        "plt.ylabel('Accuracy')\n",
        "plt.legend()\n",
        "\n",
        "# Create a plot to visualize the loss\n",
        "plt.subplot(1, 2, 2)\n",
        "plt.plot(range(1, len(training_loss) + 1), training_loss, label='Training Loss')\n",
        "plt.plot(range(1, len(validation_loss) + 1), validation_loss, label='Validation Loss')\n",
        "plt.xlabel('Epoch')\n",
        "plt.ylabel('Loss')\n",
        "plt.legend()\n",
        "\n",
        "plt.tight_layout()\n",
        "plt.show()\n"
      ],
      "metadata": {
        "colab": {
          "base_uri": "https://localhost:8080/",
          "height": 507
        },
        "id": "O890u5DqLmYJ",
        "outputId": "28a3be98-d463-40c0-f0d4-7c5d698ceeda"
      },
      "execution_count": 9,
      "outputs": [
        {
          "output_type": "display_data",
          "data": {
            "text/plain": [
              "<Figure size 1000x500 with 2 Axes>"
            ],
            "image/png": "[encoded data removed]"
          },
          "metadata": {}
        }
      ]
    },
    {
      "cell_type": "markdown",
      "source": [
        "# 4. Prediction"
      ],
      "metadata": {
        "id": "iNlGp_Bn_pWj"
      }
    },
    {
      "cell_type": "code",
      "source": [
        "from tensorflow.keras.preprocessing.image import load_img, img_to_array\n",
        "\n",
        "# Load and preprocess the test image\n",
        "test_image_path = '/content/drive/MyDrive/bottle/ground_truth/contamination/000_mask.png'  # Replace with your test image path\n",
        "test_image = load_img(test_image_path, target_size=(128, 128))\n",
        "test_image = img_to_array(test_image)\n",
        "test_image = np.expand_dims(test_image, axis=0)\n",
        "test_image = test_image / 255.0  # Normalize pixel values\n",
        "\n",
        "# Make predictions using the trained model\n",
        "predictions = model.predict(test_image)\n",
        "\n",
        "# Convert the predictions to labels (0: good, 1: anomaly)\n",
        "predicted_label = np.argmax(predictions, axis=1)[0]\n",
        "label_mapping = {0: 'good', 1: 'anomaly'}\n",
        "predicted_class = label_mapping[predicted_label]\n",
        "\n",
        "print(\"Predicted class:\", predicted_class)\n"
      ],
      "metadata": {
        "colab": {
          "base_uri": "https://localhost:8080/"
        },
        "id": "7XmIU2VnMLbE",
        "outputId": "b24467a9-e6c4-46e3-98e4-72af7c6fcffa"
      },
      "execution_count": 10,
      "outputs": [
        {
          "output_type": "stream",
          "name": "stdout",
          "text": [
            "1/1 [==============================] - 1s 844ms/step\n",
            "Predicted class: anomaly\n"
          ]
        }
      ]
    },
    {
      "cell_type": "code",
      "source": [
        "# callback() -- api 배포 관련"
      ],
      "metadata": {
        "id": "oNczKzh94-ID"
      },
      "execution_count": 11,
      "outputs": []
    },
    {
      "cell_type": "markdown",
      "source": [
        "#5. FastAPI 배포"
      ],
      "metadata": {
        "id": "AYOccgPVqRr0"
      }
    },
    {
      "cell_type": "code",
      "source": [
        "%%capture\n",
        "!pip install fastapi nest-asyncio pyngrok uvicorn"
      ],
      "metadata": {
        "id": "ygXRLWAX32_z"
      },
      "execution_count": 12,
      "outputs": []
    },
    {
      "cell_type": "code",
      "source": [
        "%%capture\n",
        "!pip install fastapi\n",
        "!pip install uvicorn\n",
        "!pip install pyngrok\n",
        "!pip install python-multipart"
      ],
      "metadata": {
        "id": "htGb90rb384B"
      },
      "execution_count": 16,
      "outputs": []
    },
    {
      "cell_type": "code",
      "source": [
        "from typing import Union\n",
        "from fastapi import FastAPI, UploadFile, File\n",
        "from tensorflow.keras.models import load_model\n",
        "from starlette.requests import Request\n",
        "from fastapi import FastAPI, HTTPException, UploadFile, File\n",
        "from starlette.requests import Request\n",
        "from starlette.responses import HTMLResponse\n",
        "from tensorflow.keras.models import load_model\n",
        "from PIL import Image\n",
        "import numpy as np\n",
        "import io"
      ],
      "metadata": {
        "id": "7_nPuATjAJNd"
      },
      "execution_count": 17,
      "outputs": []
    },
    {
      "cell_type": "code",
      "source": [
        "from fastapi import FastAPI\n",
        "\n",
        "app = FastAPI()\n",
        "\n",
        "# 모델 불러오기\n",
        "model = load_model('history.h5')\n",
        "\n",
        "@app.post(\"/predict\")\n",
        "async def predict(file: UploadFile = File(...)):\n",
        "    # 이미지 불러오기 및 전처리\n",
        "    image = Image.open(io.BytesIO(await file.read()))\n",
        "    image = image.resize((128, 128)).convert('L')\n",
        "    image = np.array(image) / 255.0\n",
        "    image = np.expand_dims(image, axis=0)\n",
        "    # 예측\n",
        "    pred = model.predict(image)\n",
        "    result = np.argmax(pred)\n",
        "    return {\"result\": int(result)}\n",
        "\n",
        "@app.post(\"/predict_with_image\")\n",
        "async def predict_with_image(image: UploadFile = File(...)):\n",
        "    # 이미지 불러오기 및 전처리\n",
        "    image = Image.open(io.BytesIO(await image.read()))\n",
        "    image = image.resize((128, 128)).convert('L')\n",
        "    image = np.array(image) / 255.0\n",
        "    image = np.expand_dims(image, axis=0)\n",
        "    # 예측\n",
        "    pred = model.predict(image)\n",
        "    result = np.argmax(pred)\n",
        "    return {\"result\": int(result)}\n",
        "\n",
        "@app.get(\"/\", response_class=HTMLResponse)\n",
        "async def read_root(request: Request):\n",
        "    return \"\"\"\n",
        "    <html>\n",
        "        <body>\n",
        "            <form action=\"/predict\" enctype=\"multipart/form-data\" method=\"post\">\n",
        "                <input name=\"file\" type=\"file\">\n",
        "                <input type=\"submit\">\n",
        "            </form>\n",
        "        </body>\n",
        "    </html>\n",
        "    \"\"\"\n",
        "\n",
        "@app.get(\"/items/{item_id}\")\n",
        "def read_item(item_id: int, q: str = None):\n",
        "    return {\"item_id\": item_id, \"q\": q}"
      ],
      "metadata": {
        "id": "vt78xqhfa7iQ"
      },
      "execution_count": 18,
      "outputs": []
    },
    {
      "cell_type": "code",
      "source": [
        "from pyngrok import ngrok\n",
        "## ngrok : 일시적인 테스트나 개발용으로 설계. 로컬 컴퓨터에서 실행되는 애플리케이션을 외부 인터넷에 연결하는 역할\n",
        "import uvicorn\n",
        "import threading\n",
        "\n",
        "url = ngrok.connect(8000)  # FastAPI의 기본 포트는 8000입니다.\n",
        "print('Public URL:', url)\n",
        "\n",
        "def run():\n",
        "    uvicorn.run(app, host=\"0.0.0.0\", port=8000)\n",
        "\n",
        "threading.Thread(target=run).start()\n"
      ],
      "metadata": {
        "id": "99yrRlnevyBU",
        "colab": {
          "base_uri": "https://localhost:8080/"
        },
        "outputId": "cfd7d3eb-f3e8-4265-9132-1f35493a333c"
      },
      "execution_count": 19,
      "outputs": [
        {
          "output_type": "stream",
          "name": "stdout",
          "text": []
        },
        {
          "output_type": "stream",
          "name": "stderr",
          "text": [
            "WARNING:pyngrok.process.ngrok:t=2023-07-21T02:25:48+0000 lvl=warn msg=\"ngrok config file found at legacy location, move to XDG location\" xdg_path=/root/.config/ngrok/ngrok.yml legacy_path=/root/.ngrok2/ngrok.yml\n"
          ]
        },
        {
          "output_type": "stream",
          "name": "stdout",
          "text": [
            "Public URL: NgrokTunnel: \"https://7a1a-34-147-15-64.ngrok.io\" -> \"http://localhost:8000\"\n"
          ]
        }
      ]
    },
    {
      "cell_type": "code",
      "source": [
        "!lsof -i :8000"
      ],
      "metadata": {
        "id": "2tt_UDcVv1U2",
        "colab": {
          "base_uri": "https://localhost:8080/"
        },
        "outputId": "16531360-6910-44b4-8434-fc82eae17979"
      },
      "execution_count": 20,
      "outputs": [
        {
          "output_type": "stream",
          "name": "stdout",
          "text": [
            "COMMAND PID USER   FD   TYPE DEVICE SIZE/OFF NODE NAME\n",
            "python3 429 root   86u  IPv4  58388      0t0  TCP *:8000 (LISTEN)\n"
          ]
        }
      ]
    },
    {
      "cell_type": "code",
      "source": [
        "!kill -9 387"
      ],
      "metadata": {
        "id": "JiVWXeEFxp5M",
        "colab": {
          "base_uri": "https://localhost:8080/"
        },
        "outputId": "8bc0ff5a-114c-403b-ddf4-510b3e31dfe5"
      },
      "execution_count": 21,
      "outputs": [
        {
          "output_type": "stream",
          "name": "stdout",
          "text": [
            "/bin/bash: line 1: kill: (387) - No such process\n"
          ]
        }
      ]
    }
  ],
  "metadata": {
    "colab": {
      "provenance": [],
      "gpuType": "T4",
      "mount_file_id": "1OjjIo5vFyRGItVb8XmOX5HACsJtubnoC",
      "authorship_tag": "ABX9TyMSc161TYvVGicl2jqFVonx",
      "include_colab_link": true
    },
    "kernelspec": {
      "display_name": "Python 3",
      "name": "python3"
    },
    "language_info": {
      "name": "python"
    },
    "accelerator": "GPU"
  },
  "nbformat": 4,
  "nbformat_minor": 0
}